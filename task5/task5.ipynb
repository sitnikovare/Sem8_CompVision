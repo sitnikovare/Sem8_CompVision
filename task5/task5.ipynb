{
 "cells": [
  {
   "attachments": {},
   "cell_type": "markdown",
   "metadata": {},
   "source": [
    "# Задание 5"
   ]
  },
  {
   "attachments": {},
   "cell_type": "markdown",
   "metadata": {},
   "source": [
    "потюнить каскады Хаара на фотографиях чтобы наилучшим образом лица задетектить"
   ]
  },
  {
   "attachments": {},
   "cell_type": "markdown",
   "metadata": {},
   "source": [
    "Загрузка изображений"
   ]
  },
  {
   "cell_type": "code",
   "execution_count": 18,
   "metadata": {},
   "outputs": [],
   "source": [
    "import cv2\n",
    "\n",
    "images_paths = [\"faces/womanFaceFull.jpg\", \"faces/multiFaces.jpg\", \"faces/manFace.png\", \"faces/multiFaces9.jpg\"]\n",
    "images = []\n",
    "for img in images_paths:\n",
    "    image = cv2.imread(img)\n",
    "    images.append(image)"
   ]
  },
  {
   "attachments": {},
   "cell_type": "markdown",
   "metadata": {},
   "source": [
    "Основная функция"
   ]
  },
  {
   "cell_type": "code",
   "execution_count": 19,
   "metadata": {},
   "outputs": [],
   "source": [
    "def findFaces(sF, mN, mS, prefix):\n",
    "    i = 1\n",
    "    for image in images:\n",
    "        gray = cv2.cvtColor(image, cv2.COLOR_BGR2GRAY)\n",
    "\n",
    "        faceCascade = cv2.CascadeClassifier(cv2.data.haarcascades + \"haarcascade_frontalface_default.xml\")\n",
    "        faces = faceCascade.detectMultiScale(gray,\n",
    "            scaleFactor=1.3,\n",
    "            minNeighbors=3,\n",
    "            minSize=(30, 30)\n",
    "        )\n",
    "        print(\"Found {0} Faces!\".format(len(faces)))\n",
    "        for (x, y, w, h) in faces:\n",
    "            cv2.rectangle(image, (x, y), (x + w, y + h), (0, 255, 0), 2)\n",
    "\n",
    "        file_path = \"faces_detected/\" + prefix + \"_faces_detected_\" + str(i) +\".jpg\"\n",
    "        status = cv2.imwrite(file_path, image)\n",
    "        i += 1"
   ]
  },
  {
   "attachments": {},
   "cell_type": "markdown",
   "metadata": {},
   "source": [
    "Запуски с различными параметрами"
   ]
  },
  {
   "cell_type": "code",
   "execution_count": 20,
   "metadata": {},
   "outputs": [
    {
     "name": "stdout",
     "output_type": "stream",
     "text": [
      "Found 1 Faces!\n",
      "Found 3 Faces!\n",
      "Found 1 Faces!\n",
      "Found 6 Faces!\n"
     ]
    }
   ],
   "source": [
    "findFaces(1.3, 3, (30,30), \"first\")"
   ]
  },
  {
   "cell_type": "code",
   "execution_count": 21,
   "metadata": {},
   "outputs": [
    {
     "name": "stdout",
     "output_type": "stream",
     "text": [
      "Found 1 Faces!\n",
      "Found 3 Faces!\n",
      "Found 1 Faces!\n",
      "Found 6 Faces!\n"
     ]
    }
   ],
   "source": [
    "findFaces(0.4, 7, (60,60), \"second\")"
   ]
  },
  {
   "cell_type": "code",
   "execution_count": 22,
   "metadata": {},
   "outputs": [
    {
     "name": "stdout",
     "output_type": "stream",
     "text": [
      "Found 1 Faces!\n",
      "Found 3 Faces!\n",
      "Found 1 Faces!\n",
      "Found 6 Faces!\n"
     ]
    }
   ],
   "source": [
    "findFaces(0.1, 1, (40,40), \"third\")"
   ]
  },
  {
   "cell_type": "code",
   "execution_count": 23,
   "metadata": {},
   "outputs": [
    {
     "name": "stdout",
     "output_type": "stream",
     "text": [
      "Found 1 Faces!\n",
      "Found 3 Faces!\n",
      "Found 1 Faces!\n",
      "Found 6 Faces!\n"
     ]
    }
   ],
   "source": [
    "findFaces(1, 10, (15,15), \"fourth\")"
   ]
  },
  {
   "attachments": {},
   "cell_type": "markdown",
   "metadata": {},
   "source": [
    "#### Результаты"
   ]
  },
  {
   "attachments": {},
   "cell_type": "markdown",
   "metadata": {},
   "source": [
    "У первой попытки нет задвоения рамки на коллаже с девочкой"
   ]
  }
 ],
 "metadata": {
  "kernelspec": {
   "display_name": "Python 3",
   "language": "python",
   "name": "python3"
  },
  "language_info": {
   "codemirror_mode": {
    "name": "ipython",
    "version": 3
   },
   "file_extension": ".py",
   "mimetype": "text/x-python",
   "name": "python",
   "nbconvert_exporter": "python",
   "pygments_lexer": "ipython3",
   "version": "3.11.2"
  },
  "orig_nbformat": 4,
  "vscode": {
   "interpreter": {
    "hash": "cc47b22cdaabff24a5b3ab67cd146a271e2ff21ed82711339dd8a4a5aa69c8fe"
   }
  }
 },
 "nbformat": 4,
 "nbformat_minor": 2
}
