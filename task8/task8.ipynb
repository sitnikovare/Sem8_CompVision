{
 "cells": [
  {
   "attachments": {},
   "cell_type": "markdown",
   "metadata": {},
   "source": [
    "# Задание 8\n",
    "\n",
    "последняя задача позапускать какую-нибудь архитектуру детекции или сегментации"
   ]
  },
  {
   "attachments": {},
   "cell_type": "markdown",
   "metadata": {},
   "source": [
    "### YOLO - You Only Look Once"
   ]
  },
  {
   "attachments": {},
   "cell_type": "markdown",
   "metadata": {},
   "source": [
    "#### Библиотеки"
   ]
  },
  {
   "cell_type": "code",
   "execution_count": 1,
   "metadata": {},
   "outputs": [],
   "source": [
    "import cv2\n",
    "import numpy as np\n",
    "\n",
    "import time\n",
    "import sys\n",
    "import os"
   ]
  },
  {
   "attachments": {},
   "cell_type": "markdown",
   "metadata": {},
   "source": [
    "#### Конфигурация сети"
   ]
  },
  {
   "attachments": {},
   "cell_type": "markdown",
   "metadata": {},
   "source": [
    "Основные настройки"
   ]
  },
  {
   "cell_type": "code",
   "execution_count": 2,
   "metadata": {},
   "outputs": [],
   "source": [
    "CONFIDENCE = 0.5\n",
    "SCORE_THRESHOLD = 0.5\n",
    "IOU_THRESHOLD = 0.5\n",
    "\n",
    "# конфигурация нейронной сети\n",
    "config_path = \"yolov3.cfg\"\n",
    "# файл весов сети YOLO\n",
    "weights_path = \"yolov3.weights\"\n",
    "# weights_path = \"weights/yolov3-tiny.weights\"\n",
    "\n",
    "# загрузка всех меток классов (объектов)\n",
    "labels = open(\"coco.names\").read().strip().split(\"\\n\")\n",
    "# генерируем цвета для каждого объекта и последующего построения\n",
    "colors = np.random.randint(0, 255, size=(len(labels), 3), dtype=\"uint8\")"
   ]
  },
  {
   "attachments": {},
   "cell_type": "markdown",
   "metadata": {},
   "source": [
    "Загрузка модуля"
   ]
  },
  {
   "cell_type": "code",
   "execution_count": 3,
   "metadata": {},
   "outputs": [],
   "source": [
    "# загружаем сеть YOLO\n",
    "net = cv2.dnn.readNetFromDarknet(config_path, weights_path)"
   ]
  },
  {
   "attachments": {},
   "cell_type": "markdown",
   "metadata": {},
   "source": [
    "#### Пример работы с изображением"
   ]
  },
  {
   "attachments": {},
   "cell_type": "markdown",
   "metadata": {},
   "source": [
    "Подготовка изображения"
   ]
  },
  {
   "cell_type": "code",
   "execution_count": 26,
   "metadata": {},
   "outputs": [],
   "source": [
    "path_name = \"images/dog.jpg\"\n",
    "image = cv2.imread(path_name)\n",
    "file_name = os.path.basename(path_name)\n",
    "filename, ext = file_name.split(\".\")"
   ]
  },
  {
   "attachments": {},
   "cell_type": "markdown",
   "metadata": {},
   "source": [
    "Нормализация изображения для подачи нейронной сети"
   ]
  },
  {
   "cell_type": "code",
   "execution_count": 27,
   "metadata": {},
   "outputs": [],
   "source": [
    "h, w = image.shape[:2]\n",
    "# создать 4D blob\n",
    "blob = cv2.dnn.blobFromImage(image, 1/255.0, (416, 416), swapRB=True, crop=False)"
   ]
  },
  {
   "attachments": {},
   "cell_type": "markdown",
   "metadata": {},
   "source": [
    "Измененная форма изображения"
   ]
  },
  {
   "cell_type": "code",
   "execution_count": 28,
   "metadata": {},
   "outputs": [
    {
     "name": "stdout",
     "output_type": "stream",
     "text": [
      "image.shape: (576, 768, 3)\n",
      "blob.shape: (1, 3, 416, 416)\n"
     ]
    }
   ],
   "source": [
    "print(\"image.shape:\", image.shape)\n",
    "print(\"blob.shape:\", blob.shape)"
   ]
  },
  {
   "attachments": {},
   "cell_type": "markdown",
   "metadata": {},
   "source": [
    "#### Прогнозирование"
   ]
  },
  {
   "cell_type": "code",
   "execution_count": 29,
   "metadata": {},
   "outputs": [
    {
     "data": {
      "text/plain": [
       "array([200, 227, 254])"
      ]
     },
     "execution_count": 29,
     "metadata": {},
     "output_type": "execute_result"
    }
   ],
   "source": [
    "net.getUnconnectedOutLayers()"
   ]
  },
  {
   "cell_type": "code",
   "execution_count": 30,
   "metadata": {},
   "outputs": [
    {
     "name": "stdout",
     "output_type": "stream",
     "text": [
      "Потребовалось: 0.37s\n"
     ]
    }
   ],
   "source": [
    "# устанавливает blob как вход сети\n",
    "net.setInput(blob)\n",
    "# получаем имена всех слоев\n",
    "ln = net.getLayerNames()\n",
    "# ln = [ln[i[0] - 1] for i in net.getUnconnectedOutLayers()]\n",
    "ln = [ln[i - 1] for i in net.getUnconnectedOutLayers()]\n",
    "    \n",
    "# прямая связь (вывод) и получение выхода сети\n",
    "# измерение времени для обработки в секундах\n",
    "start = time.perf_counter()\n",
    "layer_outputs = net.forward(ln)\n",
    "time_took = time.perf_counter() - start\n",
    "print(f\"Потребовалось: {time_took:.2f}s\")"
   ]
  },
  {
   "cell_type": "code",
   "execution_count": 31,
   "metadata": {},
   "outputs": [],
   "source": [
    "font_scale = 1\n",
    "thickness = 1\n",
    "boxes, confidences, class_ids = [], [], []\n",
    "# перебираем каждый из выходов слоя\n",
    "for output in layer_outputs:\n",
    "    # перебираем каждое обнаружение объекта\n",
    "    for detection in output:\n",
    "        # извлекаем идентификатор класса (метку) и достоверность (как вероятность)\n",
    "        # обнаружение текущего объекта\n",
    "        scores = detection[5:]\n",
    "        class_id = np.argmax(scores)\n",
    "        confidence = scores[class_id]\n",
    "        # отбросьте слабые прогнозы, убедившись, что обнаруженные\n",
    "        # вероятность больше минимальной вероятности\n",
    "        if confidence > CONFIDENCE:\n",
    "            # масштабируем координаты ограничивающего прямоугольника относительно\n",
    "            # размер изображения, учитывая, что YOLO на самом деле\n",
    "            # возвращает центральные координаты (x, y) ограничивающего\n",
    "            # поля, за которым следуют ширина и высота поля\n",
    "            box = detection[:4] * np.array([w, h, w, h])\n",
    "            (centerX, centerY, width, height) = box.astype(\"int\")\n",
    "            # используем центральные координаты (x, y) для получения вершины и\n",
    "            # и левый угол ограничительной рамки\n",
    "            x = int(centerX - (width / 2))\n",
    "            y = int(centerY - (height / 2))\n",
    "            # обновить наш список координат ограничивающего прямоугольника, достоверности,\n",
    "            # и идентификаторы класса\n",
    "            boxes.append([x, y, int(width), int(height)])\n",
    "            confidences.append(float(confidence))\n",
    "            class_ids.append(class_id)"
   ]
  },
  {
   "cell_type": "code",
   "execution_count": 32,
   "metadata": {},
   "outputs": [
    {
     "name": "stdout",
     "output_type": "stream",
     "text": [
      "(85,)\n"
     ]
    }
   ],
   "source": [
    "print(detection.shape)"
   ]
  },
  {
   "cell_type": "code",
   "execution_count": 33,
   "metadata": {},
   "outputs": [],
   "source": [
    "# perform the non maximum suppression given the scores defined before\n",
    "idxs = cv2.dnn.NMSBoxes(boxes, confidences, SCORE_THRESHOLD, IOU_THRESHOLD)\n",
    "\n",
    "font_scale = 1\n",
    "thickness = 1\n",
    "\n",
    "# ensure at least one detection exists\n",
    "if len(idxs) > 0:\n",
    "    # loop over the indexes we are keeping\n",
    "    for i in idxs.flatten():\n",
    "        # extract the bounding box coordinates\n",
    "        x, y = boxes[i][0], boxes[i][1]\n",
    "        w, h = boxes[i][2], boxes[i][3]\n",
    "        # draw a bounding box rectangle and label on the image\n",
    "        color = [int(c) for c in colors[class_ids[i]]]\n",
    "        cv2.rectangle(image, (x, y), (x + w, y + h), color=color, thickness=thickness)\n",
    "        text = f\"{labels[class_ids[i]]}: {confidences[i]:.2f}\"\n",
    "        # calculate text width & height to draw the transparent boxes as background of the text\n",
    "        (text_width, text_height) = cv2.getTextSize(text, cv2.FONT_HERSHEY_SIMPLEX, fontScale=font_scale, thickness=thickness)[0]\n",
    "        text_offset_x = x\n",
    "        text_offset_y = y - 5\n",
    "        box_coords = ((text_offset_x, text_offset_y), (text_offset_x + text_width + 2, text_offset_y - text_height))\n",
    "        overlay = image.copy()\n",
    "        cv2.rectangle(overlay, box_coords[0], box_coords[1], color=color, thickness=cv2.FILLED)\n",
    "        # add opacity (transparency to the box)\n",
    "        image = cv2.addWeighted(overlay, 0.6, image, 0.4, 0)\n",
    "        # now put the text (label: confidence %)\n",
    "        cv2.putText(image, text, (x, y - 5), cv2.FONT_HERSHEY_SIMPLEX,\n",
    "            fontScale=font_scale, color=(0, 0, 0), thickness=thickness)"
   ]
  },
  {
   "cell_type": "code",
   "execution_count": 34,
   "metadata": {},
   "outputs": [
    {
     "data": {
      "text/plain": [
       "True"
      ]
     },
     "execution_count": 34,
     "metadata": {},
     "output_type": "execute_result"
    }
   ],
   "source": [
    "cv2.imwrite(\"output/\" + filename + \"_yolo3.\" + ext, image)"
   ]
  }
 ],
 "metadata": {
  "kernelspec": {
   "display_name": "Python 3",
   "language": "python",
   "name": "python3"
  },
  "language_info": {
   "codemirror_mode": {
    "name": "ipython",
    "version": 3
   },
   "file_extension": ".py",
   "mimetype": "text/x-python",
   "name": "python",
   "nbconvert_exporter": "python",
   "pygments_lexer": "ipython3",
   "version": "3.11.2"
  },
  "orig_nbformat": 4
 },
 "nbformat": 4,
 "nbformat_minor": 2
}
