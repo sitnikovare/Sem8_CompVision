{
 "cells": [
  {
   "attachments": {},
   "cell_type": "markdown",
   "metadata": {},
   "source": [
    "# Задание 8\n",
    "\n",
    "последняя задача позапускать какую-нибудь архитектуру детекции или сегментации"
   ]
  },
  {
   "attachments": {},
   "cell_type": "markdown",
   "metadata": {},
   "source": [
    "### YOLO - You Only Look Once"
   ]
  },
  {
   "attachments": {},
   "cell_type": "markdown",
   "metadata": {},
   "source": [
    "#### Библиотеки"
   ]
  },
  {
   "cell_type": "code",
   "execution_count": 9,
   "metadata": {},
   "outputs": [],
   "source": [
    "import cv2\n",
    "import numpy as np\n",
    "\n",
    "import time\n",
    "import sys\n",
    "import os"
   ]
  },
  {
   "attachments": {},
   "cell_type": "markdown",
   "metadata": {},
   "source": [
    "#### Конфигурация сети"
   ]
  },
  {
   "attachments": {},
   "cell_type": "markdown",
   "metadata": {},
   "source": [
    "Основные настройки"
   ]
  },
  {
   "cell_type": "code",
   "execution_count": 10,
   "metadata": {},
   "outputs": [],
   "source": [
    "CONFIDENCE = 0.5\n",
    "SCORE_THRESHOLD = 0.5\n",
    "IOU_THRESHOLD = 0.5\n",
    "\n",
    "# конфигурационный файл сети\n",
    "config_path = \"yolov3.cfg\"\n",
    "# файл весов сети YOLO\n",
    "weights_path = \"yolov3.weights\"\n",
    "\n",
    "# метки классов\n",
    "labels = open(\"listofnames.names\").read().strip().split(\"\\n\")\n",
    "# список цветов для выделения объектов\n",
    "colors = np.random.randint(0, 255, size=(len(labels), 3), dtype=\"uint8\")"
   ]
  },
  {
   "attachments": {},
   "cell_type": "markdown",
   "metadata": {},
   "source": [
    "Загрузка сети YOLO"
   ]
  },
  {
   "cell_type": "code",
   "execution_count": 11,
   "metadata": {},
   "outputs": [],
   "source": [
    "net = cv2.dnn.readNetFromDarknet(config_path, weights_path)"
   ]
  },
  {
   "attachments": {},
   "cell_type": "markdown",
   "metadata": {},
   "source": [
    "#### Пример работы с изображением"
   ]
  },
  {
   "attachments": {},
   "cell_type": "markdown",
   "metadata": {},
   "source": [
    "Подготовка изображения"
   ]
  },
  {
   "cell_type": "code",
   "execution_count": 12,
   "metadata": {},
   "outputs": [],
   "source": [
    "path_name = \"images/food.jpg\"\n",
    "image = cv2.imread(path_name)\n",
    "file_name = os.path.basename(path_name)\n",
    "filename, ext = file_name.split(\".\")"
   ]
  },
  {
   "attachments": {},
   "cell_type": "markdown",
   "metadata": {},
   "source": [
    "Нормализация изображения для подачи нейронной сети"
   ]
  },
  {
   "cell_type": "code",
   "execution_count": 13,
   "metadata": {},
   "outputs": [],
   "source": [
    "h, w = image.shape[:2]\n",
    "blob = cv2.dnn.blobFromImage(image, 1/255.0, (416, 416), swapRB=True, crop=False)"
   ]
  },
  {
   "attachments": {},
   "cell_type": "markdown",
   "metadata": {},
   "source": [
    "Измененная форма изображения"
   ]
  },
  {
   "cell_type": "code",
   "execution_count": 14,
   "metadata": {},
   "outputs": [
    {
     "name": "stdout",
     "output_type": "stream",
     "text": [
      "image.shape: (480, 640, 3)\n",
      "blob.shape: (1, 3, 416, 416)\n"
     ]
    }
   ],
   "source": [
    "print(\"image.shape:\", image.shape)\n",
    "print(\"blob.shape:\", blob.shape)"
   ]
  },
  {
   "attachments": {},
   "cell_type": "markdown",
   "metadata": {},
   "source": [
    "#### Прогнозирование"
   ]
  },
  {
   "cell_type": "code",
   "execution_count": 15,
   "metadata": {},
   "outputs": [
    {
     "name": "stdout",
     "output_type": "stream",
     "text": [
      "Потребовалось: 1.16s\n"
     ]
    }
   ],
   "source": [
    "# устанавливает blob как вход сети\n",
    "net.setInput(blob)\n",
    "# получаем имена всех слоев\n",
    "ln = net.getLayerNames()\n",
    "ln = [ln[i - 1] for i in net.getUnconnectedOutLayers()]\n",
    "    \n",
    "# прямая связь (вывод) и получение выхода сети\n",
    "# измерение времени для обработки в секундах\n",
    "start = time.perf_counter()\n",
    "layer_outputs = net.forward(ln)\n",
    "time_took = time.perf_counter() - start\n",
    "print(f\"Потребовалось: {time_took:.2f}s\")"
   ]
  },
  {
   "attachments": {},
   "cell_type": "markdown",
   "metadata": {},
   "source": [
    "Получением выделения обнаруженных объектов, метку класса и достоверность обнаружения"
   ]
  },
  {
   "cell_type": "code",
   "execution_count": 16,
   "metadata": {},
   "outputs": [],
   "source": [
    "font_scale = 1\n",
    "thickness = 1\n",
    "boxes, confidences, class_ids = [], [], []\n",
    "# перебираем каждый из выходов слоя\n",
    "for output in layer_outputs:\n",
    "    # перебираем каждое обнаружение объекта\n",
    "    for detection in output:\n",
    "        # извлекаем метку класса и достоверность объекта\n",
    "        scores = detection[5:]\n",
    "        class_id = np.argmax(scores)\n",
    "        confidence = scores[class_id]\n",
    "        # осталяем объекты с нужной достоверностью\n",
    "        if confidence > CONFIDENCE:\n",
    "            # YOLO возвращает координаты центра найденного объекта\n",
    "            # поэтому нужно масштабировать выделение объекта на фото\n",
    "            box = detection[:4] * np.array([w, h, w, h])\n",
    "            (centerX, centerY, width, height) = box.astype(\"int\")\n",
    "            x = int(centerX - (width / 2))\n",
    "            y = int(centerY - (height / 2))\n",
    "            # обновляем список полученных детекций\n",
    "            # выделением, меткой, достоверностью\n",
    "            boxes.append([x, y, int(width), int(height)])\n",
    "            confidences.append(float(confidence))\n",
    "            class_ids.append(class_id)"
   ]
  },
  {
   "attachments": {},
   "cell_type": "markdown",
   "metadata": {},
   "source": [
    "Отрисовка полученных результатов на изображении"
   ]
  },
  {
   "cell_type": "code",
   "execution_count": 17,
   "metadata": {},
   "outputs": [],
   "source": [
    "# используется non maximum suppression\n",
    "idxs = cv2.dnn.NMSBoxes(boxes, confidences, SCORE_THRESHOLD, IOU_THRESHOLD)\n",
    "\n",
    "font_scale = 1\n",
    "thickness = 1\n",
    "\n",
    "# если хотя бы одно обнаружение есть\n",
    "if len(idxs) > 0:\n",
    "    # проходим по обнаружениям\n",
    "    for i in idxs.flatten():\n",
    "        # извлекаем координаты выделения\n",
    "        x, y = boxes[i][0], boxes[i][1]\n",
    "        w, h = boxes[i][2], boxes[i][3]\n",
    "        # отрисовываем прямоугольник на изображении\n",
    "        color = [int(c) for c in colors[class_ids[i]]]\n",
    "        cv2.rectangle(image, (x, y), (x + w, y + h), color=color, thickness=thickness)\n",
    "        text = f\"{labels[class_ids[i]]}: {confidences[i]:.2f}\"\n",
    "        # рассчитываем координаты для отрисовки метки класса\n",
    "        (text_width, text_height) = cv2.getTextSize(text, cv2.FONT_HERSHEY_SIMPLEX, fontScale=font_scale, thickness=thickness)[0]\n",
    "        text_offset_x = x\n",
    "        text_offset_y = y - 5\n",
    "        box_coords = ((text_offset_x, text_offset_y), (text_offset_x + text_width + 2, text_offset_y - text_height))\n",
    "        overlay = image.copy()\n",
    "        cv2.rectangle(overlay, box_coords[0], box_coords[1], color=color, thickness=cv2.FILLED)\n",
    "        # добавляем непрозрачный фон\n",
    "        image = cv2.addWeighted(overlay, 0.6, image, 0.4, 0)\n",
    "        # помещаем текст метки на созданное поле\n",
    "        cv2.putText(image, text, (x, y - 5), cv2.FONT_HERSHEY_SIMPLEX,\n",
    "            fontScale=font_scale, color=(0, 0, 0), thickness=thickness)"
   ]
  },
  {
   "attachments": {},
   "cell_type": "markdown",
   "metadata": {},
   "source": [
    "Сохраняем полученное изображение"
   ]
  },
  {
   "cell_type": "code",
   "execution_count": 18,
   "metadata": {},
   "outputs": [
    {
     "data": {
      "text/plain": [
       "True"
      ]
     },
     "execution_count": 18,
     "metadata": {},
     "output_type": "execute_result"
    }
   ],
   "source": [
    "cv2.imwrite(\"output/\" + filename + \"_yolo3.\" + ext, image)"
   ]
  }
 ],
 "metadata": {
  "kernelspec": {
   "display_name": "Python 3",
   "language": "python",
   "name": "python3"
  },
  "language_info": {
   "codemirror_mode": {
    "name": "ipython",
    "version": 3
   },
   "file_extension": ".py",
   "mimetype": "text/x-python",
   "name": "python",
   "nbconvert_exporter": "python",
   "pygments_lexer": "ipython3",
   "version": "3.11.2"
  },
  "orig_nbformat": 4
 },
 "nbformat": 4,
 "nbformat_minor": 2
}
